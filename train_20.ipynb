{
 "cells": [
  {
   "cell_type": "code",
   "execution_count": 161,
   "metadata": {},
   "outputs": [],
   "source": [
    "import pandas as pd\n",
    "import numpy as np\n",
    "import matplotlib.pyplot as plt\n",
    "import seaborn\n",
    "import pyspark\n",
    "from pyspark.sql import SparkSession\n",
    "from pyspark.sql.functions import *\n",
    "#it is important to set enough memory to SparkSession\n",
    "#or else it will trigure outOfMemoryError\n",
    "spark = SparkSession.builder.appName('BG_final_project')\\\n",
    "                            .config(\"spark.driver.memory\", \"8g\")\\\n",
    "                            .config(\"spark.executor.memory\", \"8g\")\\\n",
    "                            .getOrCreate()"
   ]
  },
  {
   "attachments": {},
   "cell_type": "markdown",
   "metadata": {},
   "source": [
    "Load data"
   ]
  },
  {
   "cell_type": "code",
   "execution_count": 162,
   "metadata": {},
   "outputs": [],
   "source": [
    "pre = spark.read.option('header', True)\\\n",
    "                .option(\"inferschema\",True)\\\n",
    "                .csv(\"preprocess_20.csv\")"
   ]
  },
  {
   "cell_type": "code",
   "execution_count": 163,
   "metadata": {},
   "outputs": [],
   "source": [
    "pre = pre.withColumn('Title', regexp_replace(col('Title'), '\"\"', '\"'))\n",
    "pre = pre.withColumn('Title', regexp_replace(col('Title'), '^\"|\"$', ''))"
   ]
  },
  {
   "cell_type": "code",
   "execution_count": 164,
   "metadata": {},
   "outputs": [],
   "source": [
    "#pre.count()"
   ]
  },
  {
   "cell_type": "code",
   "execution_count": 165,
   "metadata": {},
   "outputs": [],
   "source": [
    "#pre.show(5,truncate=False)"
   ]
  },
  {
   "cell_type": "code",
   "execution_count": 166,
   "metadata": {},
   "outputs": [],
   "source": [
    "#pre.printSchema()"
   ]
  },
  {
   "attachments": {},
   "cell_type": "markdown",
   "metadata": {},
   "source": [
    "Recommender model"
   ]
  },
  {
   "cell_type": "code",
   "execution_count": 167,
   "metadata": {},
   "outputs": [],
   "source": [
    "from pyspark.sql import SparkSession\n",
    "from pyspark.ml.evaluation import RegressionEvaluator\n",
    "from pyspark.ml.recommendation import ALS\n",
    "from pyspark.ml.feature import StringIndexer"
   ]
  },
  {
   "cell_type": "code",
   "execution_count": 168,
   "metadata": {},
   "outputs": [],
   "source": [
    "#map Title and User_id to index using StringIndexer so that bid, uid can fit in ML model\n",
    "indexer = StringIndexer(inputCol=\"Title\", outputCol=\"bid\")\n",
    "indexedData = indexer.fit(pre).transform(pre)\n",
    "#indexedData.show(5)"
   ]
  },
  {
   "cell_type": "code",
   "execution_count": 169,
   "metadata": {},
   "outputs": [],
   "source": [
    "#StrinIndexer can not handle null value, use setHandleInvalid to skip the invalid values \n",
    "user_indexer = StringIndexer(inputCol=\"User_id\", outputCol=\"uid\")\n",
    "pre_id = user_indexer.setHandleInvalid(\"skip\").fit(indexedData).transform(indexedData)\n",
    "#pre_id.show(5)"
   ]
  },
  {
   "cell_type": "code",
   "execution_count": 170,
   "metadata": {},
   "outputs": [
    {
     "name": "stdout",
     "output_type": "stream",
     "text": [
      "root\n",
      " |-- User_id: string (nullable = true)\n",
      " |-- Title: string (nullable = true)\n",
      " |-- authors: string (nullable = true)\n",
      " |-- categories: string (nullable = true)\n",
      " |-- rates: double (nullable = true)\n",
      " |-- bid: double (nullable = false)\n",
      " |-- uid: double (nullable = false)\n",
      "\n"
     ]
    }
   ],
   "source": [
    "pre_id.printSchema()"
   ]
  },
  {
   "cell_type": "code",
   "execution_count": 207,
   "metadata": {},
   "outputs": [],
   "source": [
    "data=pre_id[[\"uid\",\"bid\",\"rates\"]]"
   ]
  },
  {
   "cell_type": "code",
   "execution_count": 208,
   "metadata": {},
   "outputs": [],
   "source": [
    "(train_df,val_df,test_df)= data.randomSplit([0.6, 0.2,0.2])"
   ]
  },
  {
   "cell_type": "code",
   "execution_count": 180,
   "metadata": {},
   "outputs": [
    {
     "data": {
      "text/plain": [
       "'from pyspark.sql.types import IntegerType\\ndata =data.withColumn(\"rates\",data[\"rates\"].cast(IntegerType()))'"
      ]
     },
     "execution_count": 180,
     "metadata": {},
     "output_type": "execute_result"
    }
   ],
   "source": [
    "'''from pyspark.sql.types import IntegerType\n",
    "data =data.withColumn(\"rates\",data[\"rates\"].cast(IntegerType()))'''"
   ]
  },
  {
   "cell_type": "code",
   "execution_count": 181,
   "metadata": {},
   "outputs": [],
   "source": [
    "als = ALS(maxIter=10, \n",
    "          regParam=0.01, \n",
    "          userCol=\"uid\", \n",
    "          itemCol=\"bid\", \n",
    "          ratingCol=\"rates\", \n",
    "          coldStartStrategy=\"drop\")"
   ]
  },
  {
   "cell_type": "code",
   "execution_count": 182,
   "metadata": {},
   "outputs": [],
   "source": [
    "als_model = als.fit(train_df)"
   ]
  },
  {
   "cell_type": "code",
   "execution_count": 209,
   "metadata": {},
   "outputs": [],
   "source": [
    "als_predictions = als_model.transform(val_df)"
   ]
  },
  {
   "cell_type": "code",
   "execution_count": 184,
   "metadata": {},
   "outputs": [],
   "source": [
    "evaluator = RegressionEvaluator(metricName=\"rmse\", labelCol=\"rates\", predictionCol=\"prediction\")"
   ]
  },
  {
   "cell_type": "code",
   "execution_count": 185,
   "metadata": {},
   "outputs": [],
   "source": [
    "from pyspark.ml.tuning import ParamGridBuilder, CrossValidator\n",
    "# create the parameter grid\n",
    "params = ParamGridBuilder().addGrid(als.regParam, [.01, .05, .1, .15])\\\n",
    "                           .addGrid(als.rank, [10, 50, 100, 150])\\\n",
    "                           .build()\n",
    "\n",
    "#instantiating crossvalidator estimator\n",
    "cv = CrossValidator(estimator=als, \n",
    "                    estimatorParamMaps=params, \n",
    "                    evaluator=evaluator, \n",
    "                    parallelism=4,\n",
    "                    numFolds=5)\n",
    "\n",
    "best_model = cv.fit(train_df)\n",
    "cv_model = best_model.bestModel\n"
   ]
  },
  {
   "cell_type": "code",
   "execution_count": 231,
   "metadata": {},
   "outputs": [],
   "source": [
    "'''\n",
    "#instantiating crossvalidator estimator\n",
    "cv_1 = CrossValidator(estimator=als, estimatorParamMaps=params, evaluator=evaluator, parallelism=4)\n",
    "cv_1_best_model = cv_1.fit(train_df)\n",
    "cv_1_model = cv_1_best_model.bestModel'''"
   ]
  },
  {
   "cell_type": "code",
   "execution_count": 237,
   "metadata": {},
   "outputs": [],
   "source": [
    "cv_3 = CrossValidator(estimator=als, estimatorParamMaps=params, evaluator=evaluator, parallelism=4,numFolds=3)\n",
    "cv_3_best_model = cv_3.fit(train_df)\n",
    "cv_3_model = cv_3_best_model.bestModel"
   ]
  },
  {
   "cell_type": "code",
   "execution_count": 232,
   "metadata": {},
   "outputs": [
    {
     "data": {
      "text/plain": [
       "ALSModel: uid=ALS_1440c846b0e6, rank=150"
      ]
     },
     "execution_count": 232,
     "metadata": {},
     "output_type": "execute_result"
    }
   ],
   "source": [
    "#cv_1_model"
   ]
  },
  {
   "cell_type": "code",
   "execution_count": 238,
   "metadata": {},
   "outputs": [
    {
     "data": {
      "text/plain": [
       "ALSModel: uid=ALS_1440c846b0e6, rank=150"
      ]
     },
     "execution_count": 238,
     "metadata": {},
     "output_type": "execute_result"
    }
   ],
   "source": [
    "cv_3_model"
   ]
  },
  {
   "cell_type": "code",
   "execution_count": 239,
   "metadata": {},
   "outputs": [
    {
     "name": "stdout",
     "output_type": "stream",
     "text": [
      "Root Mean Square Error for 3-fold cross validation on validation data = 0.9693235416495645\n"
     ]
    }
   ],
   "source": [
    "cv_3_predictions = cv_3_model.transform(val_df)\n",
    "\n",
    "cv_3_rmse = evaluator.evaluate(cv_3_predictions)\n",
    "print(\"Root Mean Square Error for 3-fold cross validation on validation data = \" + str(cv_3_rmse))"
   ]
  },
  {
   "cell_type": "code",
   "execution_count": 186,
   "metadata": {},
   "outputs": [
    {
     "data": {
      "text/plain": [
       "ALSModel: uid=ALS_1440c846b0e6, rank=150"
      ]
     },
     "execution_count": 186,
     "metadata": {},
     "output_type": "execute_result"
    }
   ],
   "source": [
    "cv_model"
   ]
  },
  {
   "cell_type": "code",
   "execution_count": 210,
   "metadata": {},
   "outputs": [],
   "source": [
    "cv_predictions = cv_model.transform(val_df)"
   ]
  },
  {
   "cell_type": "code",
   "execution_count": 233,
   "metadata": {},
   "outputs": [
    {
     "name": "stdout",
     "output_type": "stream",
     "text": [
      "Root Mean Square Error for cross validation on validation data = 0.9693235416495645\n"
     ]
    }
   ],
   "source": [
    "'''cv_1_predictions = cv_1_model.transform(val_df)\n",
    "\n",
    "cv_1_rmse = evaluator.evaluate(cv_1_predictions)\n",
    "print(\"Root Mean Square Error for cross validation on validation data = \" + str(cv_1_rmse))'''"
   ]
  },
  {
   "cell_type": "code",
   "execution_count": 235,
   "metadata": {},
   "outputs": [
    {
     "name": "stdout",
     "output_type": "stream",
     "text": [
      "Root Mean Square Error for ALS on validation data = 0.2740378532403792\n",
      "Root Mean Square Error for 5-fold cross validation on validation data = 0.3628177611688855\n"
     ]
    }
   ],
   "source": [
    "als_rmse = evaluator.evaluate(als_predictions)\n",
    "print(\"Root Mean Square Error for ALS on validation data = \" + str(als_rmse))\n",
    "\n",
    "cv_rmse = evaluator.evaluate(cv_predictions)\n",
    "print(\"Root Mean Square Error for 5-fold cross validation on validation data = \" + str(cv_rmse))"
   ]
  },
  {
   "cell_type": "code",
   "execution_count": 236,
   "metadata": {},
   "outputs": [
    {
     "name": "stdout",
     "output_type": "stream",
     "text": [
      "Root Mean Square Error for ALS on test data = 0.26911412723790346\n",
      "Root Mean Square Error for 5-fold cross validation on test data = 0.36014514156426813\n"
     ]
    }
   ],
   "source": [
    "als_test_predictions=als_model.transform(test_df)\n",
    "\n",
    "als_test_rmse = evaluator.evaluate(als_test_predictions)\n",
    "print(\"Root Mean Square Error for ALS on test data = \" + str(als_test_rmse))\n",
    "\n",
    "cv_test_predictions=cv_model.transform(test_df)\n",
    "\n",
    "cv_test_rmse = evaluator.evaluate(cv_test_predictions)\n",
    "print(\"Root Mean Square Error for 5-fold cross validation on test data = \" + str(cv_test_rmse))"
   ]
  },
  {
   "cell_type": "code",
   "execution_count": 250,
   "metadata": {},
   "outputs": [],
   "source": [
    "# Generate top 10 book recommendations for each user\n",
    "userRecs = cv_model.recommendForUserSubset(cv_test_predictions.select(\"uid\"),10)"
   ]
  },
  {
   "cell_type": "code",
   "execution_count": 253,
   "metadata": {},
   "outputs": [
    {
     "name": "stdout",
     "output_type": "stream",
     "text": [
      "+---+------------------------------------------------------------------------------------------------------------------------------------------------------------------------------------------------------------+\n",
      "|uid|recommendations                                                                                                                                                                                             |\n",
      "+---+------------------------------------------------------------------------------------------------------------------------------------------------------------------------------------------------------------+\n",
      "|12 |[{139391, 6.5770655}, {38611, 6.145306}, {126020, 6.1290016}, {19582, 5.922312}, {202935, 5.5806875}, {7262, 5.4845986}, {60689, 5.386907}, {25127, 5.3861046}, {180252, 5.356891}, {18776, 5.318654}]      |\n",
      "|22 |[{38734, 4.805154}, {38603, 4.805154}, {120293, 4.805154}, {182922, 4.805154}, {30663, 4.805154}, {194290, 4.805154}, {179150, 4.805154}, {92730, 4.805154}, {64260, 4.805154}, {90438, 4.805154}]          |\n",
      "|27 |[{139391, 6.7133007}, {38611, 6.652323}, {126020, 6.4612393}, {19582, 6.2120295}, {202935, 5.9397025}, {7262, 5.596097}, {25127, 5.589708}, {18776, 5.570354}, {24767, 5.558208}, {60689, 5.534055}]        |\n",
      "|31 |[{139391, 6.1642537}, {38611, 5.850176}, {126020, 5.83595}, {19582, 5.601439}, {202935, 5.2696233}, {7262, 5.1690774}, {60689, 5.0631814}, {8981, 4.9733825}, {186232, 4.9670396}, {33178, 4.959997}]       |\n",
      "|34 |[{38611, 6.4856834}, {126020, 6.3422985}, {139391, 6.256017}, {19582, 6.105334}, {202935, 5.648002}, {44212, 5.550688}, {25127, 5.372998}, {100368, 5.370319}, {60689, 5.347854}, {57365, 5.3435035}]       |\n",
      "|65 |[{139391, 5.7515607}, {126020, 5.28565}, {38611, 5.239591}, {19582, 5.137528}, {33965, 5.12853}, {25127, 5.071889}, {37318, 4.9902477}, {24130, 4.959828}, {20393, 4.944851}, {5806, 4.943493}]             |\n",
      "|76 |[{139391, 6.2524533}, {38611, 5.73697}, {126020, 5.6613884}, {19582, 5.4869294}, {202935, 5.2181807}, {7262, 5.206132}, {41730, 5.1740136}, {41731, 5.1740136}, {25127, 5.1711555}, {4514, 5.0614552}]      |\n",
      "|78 |[{139391, 6.113516}, {38611, 5.8029776}, {126020, 5.704882}, {19582, 5.5081496}, {202935, 5.3232436}, {25127, 5.161851}, {60689, 5.0861287}, {1897, 5.054572}, {18776, 5.0468187}, {7262, 5.017753}]        |\n",
      "|81 |[{139391, 6.7555337}, {38611, 6.551249}, {126020, 5.9472275}, {19582, 5.734579}, {100368, 5.4370193}, {42297, 5.3848963}, {161158, 5.372717}, {202935, 5.291846}, {135666, 5.2855673}, {60689, 5.2846065}]  |\n",
      "|85 |[{139391, 7.067644}, {38611, 6.1939387}, {126020, 6.173574}, {19582, 5.985661}, {7262, 5.7233553}, {135730, 5.7153883}, {88310, 5.7153883}, {180252, 5.675823}, {25127, 5.640949}, {42664, 5.628894}]       |\n",
      "|91 |[{139391, 6.5193906}, {38611, 6.2671747}, {126020, 6.0234303}, {19582, 5.788153}, {202935, 5.668397}, {180252, 5.380774}, {100368, 5.3734813}, {8804, 5.3189445}, {8792, 5.3189445}, {8811, 5.3189445}]     |\n",
      "|93 |[{139391, 6.7015753}, {38611, 5.914423}, {126020, 5.8187056}, {19582, 5.6222267}, {202935, 5.486994}, {7262, 5.4129705}, {4979, 5.394533}, {90551, 5.3695836}, {9703, 5.340281}, {7883, 5.3376637}]         |\n",
      "|101|[{139391, 6.6032047}, {38611, 6.077941}, {126020, 5.9072986}, {19582, 5.7101393}, {202935, 5.3945336}, {7262, 5.3872666}, {135730, 5.3686695}, {88310, 5.3686695}, {60689, 5.36525}, {8981, 5.3266006}]     |\n",
      "|103|[{139391, 6.573423}, {38611, 6.285763}, {126020, 6.0209217}, {19582, 5.805057}, {202935, 5.6327477}, {60689, 5.552873}, {194256, 5.433826}, {7262, 5.3733916}, {25127, 5.340403}, {18776, 5.3286576}]       |\n",
      "|108|[{139391, 5.2876554}, {38272, 4.8677216}, {11396, 4.8622246}, {93871, 4.8618436}, {76921, 4.8618436}, {40151, 4.8618436}, {203580, 4.8618436}, {209481, 4.8618436}, {141921, 4.8618436}, {33331, 4.8618436}]|\n",
      "|115|[{139391, 6.637755}, {38611, 6.4690437}, {126020, 6.214158}, {19582, 5.986942}, {202935, 5.8275247}, {60689, 5.5327644}, {18776, 5.488812}, {25127, 5.4485564}, {7262, 5.443665}, {29394, 5.4154186}]       |\n",
      "|122|[{38611, 6.5298634}, {139391, 6.4108477}, {126020, 5.7759857}, {194256, 5.5925174}, {19582, 5.5552077}, {161158, 5.4840446}, {135666, 5.450532}, {60689, 5.4170775}, {42297, 5.380284}, {202935, 5.31253}]  |\n",
      "|128|[{139391, 5.9732504}, {38611, 5.737093}, {126020, 5.6828794}, {19582, 5.4458933}, {202935, 5.334768}, {180252, 5.17701}, {157187, 5.0945983}, {16182, 5.0642467}, {18433, 5.05378}, {19254, 5.05378}]       |\n",
      "|159|[{38611, 5.216187}, {139391, 5.1323533}, {126020, 5.0483685}, {57365, 4.961112}, {19582, 4.8913484}, {186812, 4.8204303}, {33355, 4.8204303}, {33354, 4.8204303}, {33356, 4.8204303}, {24924, 4.7869725}]   |\n",
      "|190|[{139391, 6.249581}, {38611, 5.5058937}, {126020, 5.4519644}, {19582, 5.2848463}, {8981, 5.226458}, {8511, 5.166811}, {20393, 5.155815}, {88310, 5.1532135}, {135730, 5.1532135}, {25127, 5.1057315}]       |\n",
      "+---+------------------------------------------------------------------------------------------------------------------------------------------------------------------------------------------------------------+\n",
      "only showing top 20 rows\n",
      "\n"
     ]
    }
   ],
   "source": [
    "#userRecs.show(truncate=False)"
   ]
  },
  {
   "cell_type": "code",
   "execution_count": 192,
   "metadata": {},
   "outputs": [
    {
     "name": "stdout",
     "output_type": "stream",
     "text": [
      "root\n",
      " |-- uid: integer (nullable = false)\n",
      " |-- recommendations: array (nullable = true)\n",
      " |    |-- element: struct (containsNull = true)\n",
      " |    |    |-- bid: integer (nullable = true)\n",
      " |    |    |-- rating: float (nullable = true)\n",
      "\n"
     ]
    }
   ],
   "source": [
    "#userRecs.printSchema()"
   ]
  },
  {
   "cell_type": "code",
   "execution_count": 217,
   "metadata": {},
   "outputs": [],
   "source": [
    "userMapping = pre_id.select(\"User_id\", \"uid\").distinct()"
   ]
  },
  {
   "cell_type": "code",
   "execution_count": 190,
   "metadata": {},
   "outputs": [
    {
     "name": "stdout",
     "output_type": "stream",
     "text": [
      "root\n",
      " |-- User_id: string (nullable = true)\n",
      " |-- uid: double (nullable = false)\n",
      "\n"
     ]
    }
   ],
   "source": [
    "#userMapping.printSchema()"
   ]
  },
  {
   "cell_type": "code",
   "execution_count": 254,
   "metadata": {},
   "outputs": [],
   "source": [
    "userMapping = userMapping.alias(\"mapping\")\n",
    "userRecs = userRecs.alias(\"recs\")"
   ]
  },
  {
   "cell_type": "code",
   "execution_count": 255,
   "metadata": {},
   "outputs": [],
   "source": [
    "indexedUserRecs = userRecs.join(userMapping, col(\"recs.uid\") == col(\"mapping.uid\"), \"left_outer\")\n",
    "indexedUserRecs = indexedUserRecs.select(col(\"mapping.User_id\"), col(\"recs.recommendations.bid\"),col(\"recs.recommendations.rating\"))"
   ]
  },
  {
   "cell_type": "code",
   "execution_count": 256,
   "metadata": {},
   "outputs": [
    {
     "name": "stdout",
     "output_type": "stream",
     "text": [
      "root\n",
      " |-- User_id: string (nullable = true)\n",
      " |-- bid: array (nullable = true)\n",
      " |    |-- element: integer (containsNull = true)\n",
      " |-- rating: array (nullable = true)\n",
      " |    |-- element: float (containsNull = true)\n",
      "\n"
     ]
    }
   ],
   "source": [
    "#indexedUserRecs.printSchema()"
   ]
  },
  {
   "cell_type": "code",
   "execution_count": 257,
   "metadata": {},
   "outputs": [
    {
     "name": "stdout",
     "output_type": "stream",
     "text": [
      "+--------------+--------------------+--------------------+\n",
      "|       User_id|                 bid|              rating|\n",
      "+--------------+--------------------+--------------------+\n",
      "|A2NJO6YE954DBH|[139391, 38611, 1...|[6.5770655, 6.145...|\n",
      "|A1RAUVCWYHTQI4|[38734, 38603, 12...|[4.805154, 4.8051...|\n",
      "|A34UTL4AVX80MK|[139391, 38611, 1...|[6.7133007, 6.652...|\n",
      "| AUTBHG6070SL4|[139391, 38611, 1...|[6.1642537, 5.850...|\n",
      "|A22DUZU3XVA8HA|[38611, 126020, 1...|[6.4856834, 6.342...|\n",
      "+--------------+--------------------+--------------------+\n",
      "only showing top 5 rows\n",
      "\n"
     ]
    }
   ],
   "source": [
    "#indexedUserRecs.show(5)"
   ]
  },
  {
   "cell_type": "code",
   "execution_count": 271,
   "metadata": {},
   "outputs": [],
   "source": [
    "# Explode the recommendations column to show each recommendation in a separate row\n",
    "explodedRecs = indexedUserRecs.select(\"User_id\",  explode(\"bid\").alias(\"bid\"))\n",
    "#explodedRecs=explodedRecs.select(\"User_id\",\"book_id\",explode(\"rating\").alias(\"rating\"))"
   ]
  },
  {
   "cell_type": "code",
   "execution_count": 260,
   "metadata": {},
   "outputs": [
    {
     "name": "stdout",
     "output_type": "stream",
     "text": [
      "root\n",
      " |-- User_id: string (nullable = true)\n",
      " |-- book_id: integer (nullable = true)\n",
      " |-- rating: float (nullable = true)\n",
      "\n"
     ]
    }
   ],
   "source": [
    "#explodedRecs.printSchema()"
   ]
  },
  {
   "cell_type": "code",
   "execution_count": null,
   "metadata": {},
   "outputs": [],
   "source": [
    "#explodedRecs.show(5,truncate=False)"
   ]
  },
  {
   "cell_type": "code",
   "execution_count": 222,
   "metadata": {},
   "outputs": [],
   "source": [
    "bookMapping = pre_id.select(\"Title\", \"bid\").distinct()"
   ]
  },
  {
   "cell_type": "code",
   "execution_count": 227,
   "metadata": {},
   "outputs": [],
   "source": [
    "bookMapping = bookMapping.alias(\"book\")\n",
    "explodedRecs = explodedRecs.alias(\"exrecs\")"
   ]
  },
  {
   "cell_type": "code",
   "execution_count": 228,
   "metadata": {},
   "outputs": [],
   "source": [
    "indexeded_explodedRecs = explodedRecs.join(bookMapping, col(\"exrecs.book_id\") == col(\"book.bid\"), \"left_outer\")\n",
    "indexeded_explodedRecs = indexeded_explodedRecs.select(col(\"exrecs.User_id\"), col(\"book.Title\"))"
   ]
  },
  {
   "cell_type": "code",
   "execution_count": 229,
   "metadata": {},
   "outputs": [
    {
     "name": "stdout",
     "output_type": "stream",
     "text": [
      "+-------------+-------------------------------------+\n",
      "|User_id      |Title                                |\n",
      "+-------------+-------------------------------------+\n",
      "|AUTBHG6070SL4|Penny Plain [Hardcover] by O. Douglas|\n",
      "|AUTBHG6070SL4|The Diary of Anne Frank.             |\n",
      "|AUTBHG6070SL4|Messages from Water, Vol. 1          |\n",
      "|AUTBHG6070SL4|Transmetropolitan Vol. 5: Lonely City|\n",
      "|AUTBHG6070SL4|Vagueness: A Reader (Bradford Books) |\n",
      "+-------------+-------------------------------------+\n",
      "only showing top 5 rows\n",
      "\n"
     ]
    }
   ],
   "source": [
    "#indexeded_explodedRecs.show(5,truncate=False)"
   ]
  },
  {
   "cell_type": "code",
   "execution_count": 265,
   "metadata": {},
   "outputs": [],
   "source": [
    "#user_info=pre_id.filter(col(\"User_id\")==random_user).select(\"Title\",\"rates\")\n"
   ]
  },
  {
   "cell_type": "code",
   "execution_count": 268,
   "metadata": {},
   "outputs": [
    {
     "name": "stdout",
     "output_type": "stream",
     "text": [
      "+--------------------------------------------------------------------------------------------------------------------------------------------------------------------------------------------------+-----+\n",
      "|Title                                                                                                                                                                                             |rates|\n",
      "+--------------------------------------------------------------------------------------------------------------------------------------------------------------------------------------------------+-----+\n",
      "|1601 And Is Shakespeare Dead? (Mark Twain Works)                                                                                                                                                  |4.0  |\n",
      "|A Bit of Madness                                                                                                                                                                                  |5.0  |\n",
      "|A Crystal Age.                                                                                                                                                                                    |3.0  |\n",
      "|A Fighting Man of Mars                                                                                                                                                                            |4.0  |\n",
      "|A House of Pomegranates                                                                                                                                                                           |4.0  |\n",
      "|A Modern Utopia                                                                                                                                                                                   |4.0  |\n",
      "|A Tally of Types                                                                                                                                                                                  |4.0  |\n",
      "|A book of Five Rings                                                                                                                                                                              |4.0  |\n",
      "|A crystal age (Armed Services edition)                                                                                                                                                            |3.0  |\n",
      "|A fighting man of Mars                                                                                                                                                                            |4.0  |\n",
      "|A voyage to Arcturus (Canongate classics)                                                                                                                                                         |5.0  |\n",
      "|A voyage to Arcturus (Macmillan's library of science fiction classics)                                                                                                                            |5.0  |\n",
      "|ANIMAL FARM - A Fairy Story (Time Reading Program Special Edition)                                                                                                                                |5.0  |\n",
      "|Achilles Tatius. The Adventures of Leucippe and Clitophon.                                                                                                                                        |4.0  |\n",
      "|Advanced UNIX Programming (2nd Edition)                                                                                                                                                           |4.0  |\n",
      "|Agile Project Management With Scrum                                                                                                                                                               |4.0  |\n",
      "|Alfons Mucha, 1860-1939: Master of Art Nouveau (Albums S.)                                                                                                                                        |4.0  |\n",
      "|Alfred Hitchcock Presents 12 Stories For Late Night                                                                                                                                               |5.0  |\n",
      "|Alfred Hitchcock Presents 12 Stories for Late At Night                                                                                                                                            |5.0  |\n",
      "|All Wired Up: Wire Techniques For the Beadworker and Jewelry Maker (Beadwork How-To)                                                                                                              |4.0  |\n",
      "|Amphigorey Also                                                                                                                                                                                   |5.0  |\n",
      "|An Essay on the Psychology of Invention in the Mathematical Field                                                                                                                                 |3.0  |\n",
      "|An Introduction to the History of Printing Types: An Illustrated Summary of the Main Stages in the Development of Type Design from 1440 Up to the Present Day : An Aid to Type Face Identification|4.0  |\n",
      "|An essay on the psychology of invention in the mathematical field                                                                                                                                 |3.0  |\n",
      "|An essay on typography,                                                                                                                                                                           |5.0  |\n",
      "|Ancestors Tale a Pilgrimage To the Da                                                                                                                                                             |5.0  |\n",
      "|Andy Grant's Pluck                                                                                                                                                                                |3.0  |\n",
      "|Animal Farm                                                                                                                                                                                       |5.0  |\n",
      "|Animal Farm (Signet Classics, CT304)                                                                                                                                                              |5.0  |\n",
      "|Animal Farm 50TH Anniversary Edition                                                                                                                                                              |5.0  |\n",
      "|Applying Use Cases A Practical Guide                                                                                                                                                              |4.0  |\n",
      "|Art Restoration: The Culture, the Business, the Scandal                                                                                                                                           |5.0  |\n",
      "|As the Green Star rises                                                                                                                                                                           |4.0  |\n",
      "|At the Earth's Core                                                                                                                                                                               |5.0  |\n",
      "|At the Earth's Core (Pellucidar)                                                                                                                                                                  |5.0  |\n",
      "|Athena Inc. Volume 1: Manhunter Project                                                                                                                                                           |4.0  |\n",
      "|Atlas of Foreshortening: The Human Figure in Deep Perspective                                                                                                                                     |5.0  |\n",
      "|Auriol; or, The elixir of life, (The Caxton novels)                                                                                                                                               |1.0  |\n",
      "|Babel-17                                                                                                                                                                                          |5.0  |\n",
      "|Bantam New College German/English Dictionary (Bantam New College Dictionary Series)                                                                                                               |4.0  |\n",
      "|Beanworld Book 1 (Beanworld Series Book 1)                                                                                                                                                        |1.0  |\n",
      "|Beyond the Farthest Star                                                                                                                                                                          |4.0  |\n",
      "|Beyond the Top Shelf                                                                                                                                                                              |1.0  |\n",
      "|Big Sleep                                                                                                                                                                                         |4.0  |\n",
      "|Biological Sequence Analysis: Probabilistic Models of Proteins and Nucleic Acids                                                                                                                  |5.0  |\n",
      "|Biological Systematics: Principles and Applications (Comstock Books)                                                                                                                              |4.0  |\n",
      "|Biomolecular NMR Spectroscopy                                                                                                                                                                     |4.0  |\n",
      "|Black Bodies                                                                                                                                                                                      |4.0  |\n",
      "|Black Kiss: Thick Black Kiss                                                                                                                                                                      |5.0  |\n",
      "|Black Orchid: Book One                                                                                                                                                                            |3.0  |\n",
      "|Bored of the Rings: A Parody of J.R.R. Tolkien's \"Lord of the Rings\"                                                                                                                              |4.0  |\n",
      "|Camouflage                                                                                                                                                                                        |3.0  |\n",
      "|Canopus in Argos: Archives The Marriages Between Zones Three, Four, and Five                                                                                                                      |5.0  |\n",
      "|Children of the Lens                                                                                                                                                                              |5.0  |\n",
      "|Children of the Lens (Lensman Saga)                                                                                                                                                               |5.0  |\n",
      "|Children of the lens (The Lensman series)                                                                                                                                                         |5.0  |\n",
      "|Chuang Tzu: A new selected translation with an exposition of the philosophy of Kuo Hsiang                                                                                                         |4.0  |\n",
      "|Classical Loop-in-Loop Chains                                                                                                                                                                     |5.0  |\n",
      "|Collected Sandman Covers, 1989-1997                                                                                                                                                               |5.0  |\n",
      "|Colour Of Magic                                                                                                                                                                                   |5.0  |\n",
      "|Compiler Optimizations for Scalable Parallel Systems: Languages, Compilation Techniques, and Run Time Systems (Lecture Notes in Computer Science)                                                 |5.0  |\n",
      "|Component Development for the Java Platform                                                                                                                                                       |5.0  |\n",
      "|Computational Chemistry (Oxford Chemistry Primers, 29)                                                                                                                                            |3.0  |\n",
      "|Computational Chemistry: Introduction to the Theory and Applications of Molecular and Quantum Mechanics                                                                                           |3.0  |\n",
      "|Computational Methods in Molecular Biology, Volume 32 (New Comprehensive Biochemistry)                                                                                                            |5.0  |\n",
      "|Computer architecture (Computer science series)                                                                                                                                                   |4.0  |\n",
      "|Concerning the spiritual in art (The Documents of modern art)                                                                                                                                     |4.0  |\n",
      "|Counterpunch: Making Type in the 16th Century, Designing Typefaces Now                                                                                                                            |5.0  |\n",
      "|Dali                                                                                                                                                                                              |5.0  |\n",
      "|Dali on Modern Art - The Cuckolds of Antiquated modern art                                                                                                                                        |4.0  |\n",
      "|Darwin and the Barnacle: The Story of One Tiny Creature and History's Most Spectacular Scientific Breakthrough                                                                                    |5.0  |\n",
      "|Den 4 Dreams                                                                                                                                                                                      |4.0  |\n",
      "|Design Language                                                                                                                                                                                   |3.0  |\n",
      "|Designing Books: Practice and Theory                                                                                                                                                              |4.0  |\n",
      "|Destiny,: A novel in pictures                                                                                                                                                                     |4.0  |\n",
      "|Diary of a genius                                                                                                                                                                                 |5.0  |\n",
      "|Different Dances                                                                                                                                                                                  |5.0  |\n",
      "|Dreams                                                                                                                                                                                            |4.0  |\n",
      "|EVERYTHING THAT RISES                                                                                                                                                                             |5.0  |\n",
      "|Edna's Nudes                                                                                                                                                                                      |4.0  |\n",
      "|Egg of Darkness (Roxanna & The Quest for the Time Bird)                                                                                                                                           |4.0  |\n",
      "|Einstein Simplified                                                                                                                                                                               |5.0  |\n",
      "|Elmer Gantry (Avon Books #1)                                                                                                                                                                      |4.0  |\n",
      "|Emily The Strange #1: The Boring Issue (v. 1)                                                                                                                                                     |4.0  |\n",
      "|Emmanuelle                                                                                                                                                                                        |3.0  |\n",
      "|Enchiridion (Dover Thrift Editions)                                                                                                                                                               |5.0  |\n",
      "|Equal Rites                                                                                                                                                                                       |5.0  |\n",
      "|Erewhon                                                                                                                                                                                           |5.0  |\n",
      "|Erewhon (Collector's library of famous editions)                                                                                                                                                  |5.0  |\n",
      "|Erewhon,                                                                                                                                                                                          |5.0  |\n",
      "|Eric (Discworld Series)                                                                                                                                                                           |3.0  |\n",
      "|Eros                                                                                                                                                                                              |5.0  |\n",
      "|Erotica 19th Century: From Courbet to Gauguin (TASCHEN Icons Series) (English, German and French Edition)                                                                                         |3.0  |\n",
      "|Erotica: An Illustrated Anthology of Art and Literature                                                                                                                                           |5.0  |\n",
      "|Everything That Has Been Shall Be Again : The Reincarnation Fables of John Gilgun                                                                                                                 |5.0  |\n",
      "|Evolution of Cooperation. (Penguin Press Science)                                                                                                                                                 |5.0  |\n",
      "|Extreme Programming Explained: Embrace Change                                                                                                                                                     |3.0  |\n",
      "|FIFTH ELEPHANT (DISCWORLD)                                                                                                                                                                        |5.0  |\n",
      "|Fables Vol. 3: Storybook Love                                                                                                                                                                     |4.0  |\n",
      "|Fahrenheit 451                                                                                                                                                                                    |5.0  |\n",
      "|Fahrenheit 451 (Cascades S.)                                                                                                                                                                      |5.0  |\n",
      "|Feet of Clay: Discworld #19                                                                                                                                                                       |4.0  |\n",
      "|Feiffer's album                                                                                                                                                                                   |4.0  |\n",
      "|Femmes: Masterpieces of Erotic Photography (Grove Press Poetry Series)                                                                                                                            |4.0  |\n",
      "|Fever in Urbicand (Cities of the Fantastic)                                                                                                                                                       |4.0  |\n",
      "|Five women who loved love                                                                                                                                                                         |4.0  |\n",
      "|Flying Dutch                                                                                                                                                                                      |4.0  |\n",
      "|Four Huts (Shambhala Centaur Editions)                                                                                                                                                            |5.0  |\n",
      "|Four women                                                                                                                                                                                        |4.0  |\n",
      "|Frames and Resolvable Designs: Uses, Constructions and Existence (Discrete Mathematics and Its Applications)                                                                                      |4.0  |\n",
      "|Frank Miller's Ronin                                                                                                                                                                              |4.0  |\n",
      "|Frankenstein                                                                                                                                                                                      |5.0  |\n",
      "|Frankenstein (Isis Large Print Fiction)                                                                                                                                                           |5.0  |\n",
      "|Frankenstein (Running Press classics)                                                                                                                                                             |5.0  |\n",
      "|Futuredays: A Nineteenth Century Vision of the Year 2000                                                                                                                                          |4.0  |\n",
      "|Genesis                                                                                                                                                                                           |4.0  |\n",
      "|Georgia O'keeffe - One Hundred Flowers                                                                                                                                                            |5.0  |\n",
      "|Global Frequency Vol. 1: Planet Ablaze                                                                                                                                                            |4.0  |\n",
      "|Global Frequency Vol. 2: Detonation Radio                                                                                                                                                         |4.0  |\n",
      "|God and Golem, inc.;: A comment on certain points where cybernetics impinges on religion                                                                                                          |4.0  |\n",
      "|God's man: A novel in woodcuts                                                                                                                                                                    |5.0  |\n",
      "|Got War?: A Doonesbury Book (Doonesbury Collection)                                                                                                                                               |4.0  |\n",
      "|Gray Lensman                                                                                                                                                                                      |4.0  |\n",
      "|Gray Lensman (Lensman Saga)                                                                                                                                                                       |4.0  |\n",
      "|Grendel                                                                                                                                                                                           |3.0  |\n",
      "|Gustav Klimt Women                                                                                                                                                                                |4.0  |\n",
      "|HR GIGER ARh+                                                                                                                                                                                     |5.0  |\n",
      "|Hacker's Delight                                                                                                                                                                                  |5.0  |\n",
      "|Hagakure                                                                                                                                                                                          |5.0  |\n",
      "|Hagakure: The Book of the Samurai                                                                                                                                                                 |5.0  |\n",
      "|Handbook of Computational Molecular Biology (Chapman & Hall/CRC Computer & Information Science Series)                                                                                            |5.0  |\n",
      "|Head First Design Patterns                                                                                                                                                                        |4.0  |\n",
      "|Heavy Metal Presents Theodores Sturgeon's More Than Human the Graphic Story Version                                                                                                               |4.0  |\n",
      "|Helmut Newton's Sumo                                                                                                                                                                              |5.0  |\n",
      "|Herland                                                                                                                                                                                           |4.0  |\n",
      "|Hidden Markov Models for Bioinformatics                                                                                                                                                           |5.0  |\n",
      "|Hokusai: Life and Work                                                                                                                                                                            |5.0  |\n",
      "|Holding Yin, Embracing Yang: Three Taoist Classics on Meditation, Breath Regulation, Sexual Yoga, and the Circulation of Internal Energy                                                          |4.0  |\n",
      "|Homicidal Psycho Jungle Cat, a Calvin and Hobbes Collection                                                                                                                                       |5.0  |\n",
      "|Hound of the Baskervilles (Lrs Large Print Heritage Series)                                                                                                                                       |4.0  |\n",
      "|How Buildings Learn: What Happens After They're Built                                                                                                                                             |5.0  |\n",
      "|How Prints Look: Photographs With a Commentary                                                                                                                                                    |4.0  |\n",
      "|How Prints Look: Photographs with a Commentary                                                                                                                                                    |4.0  |\n",
      "|How prints look; photographs with a commentary,                                                                                                                                                   |4.0  |\n",
      "|How to lie with statistics / by Darrell Huff                                                                                                                                                      |5.0  |\n",
      "|Hunter's Heart, Volume 3 Of 3 - Book Three, Past Lives                                                                                                                                            |4.0  |\n",
      "|Implementing Application Frameworks: Object-Oriented Frameworks at Work                                                                                                                           |4.0  |\n",
      "|In the Days of the Comet                                                                                                                                                                          |4.0  |\n",
      "|In the Days of the Comet (Highland editions, X1440)                                                                                                                                               |4.0  |\n",
      "|In the days of the Comet                                                                                                                                                                          |4.0  |\n",
      "|Inanna, queen of heaven and earth: Her stories and hymns from Sumer                                                                                                                               |4.0  |\n",
      "|Incal I: The Dark Incal & The Bright Incal (Incal 1)                                                                                                                                              |3.0  |\n",
      "|Indian Home Cooking: A Fresh Introduction to Indian Food, with More Than 150 Recipes                                                                                                              |5.0  |\n",
      "|Inside the Fft Black Box                                                                                                                                                                          |4.0  |\n",
      "|Island of Dr. Moreau (Horror Classics)                                                                                                                                                            |5.0  |\n",
      "|It Can't Happen Here                                                                                                                                                                              |5.0  |\n",
      "|It Can't Happen Here (Audio Book)                                                                                                                                                                 |5.0  |\n",
      "|It Can't Happen Here A Novel                                                                                                                                                                      |5.0  |\n",
      "|Iterative Solution of Large Linear Systems (Computer Science And Applied Amthematics)                                                                                                             |3.0  |\n",
      "|Jack Vettriano                                                                                                                                                                                    |5.0  |\n",
      "|Jandar of Callisto                                                                                                                                                                                |3.0  |\n",
      "|Japanese Patinas                                                                                                                                                                                  |5.0  |\n",
      "|Java 5.0 Tiger: A Developer's Notebook                                                                                                                                                            |5.0  |\n",
      "|JavaScript Bible (Bible (Wiley))                                                                                                                                                                  |4.0  |\n",
      "|Jock Sturges: Notes                                                                                                                                                                               |4.0  |\n",
      "|Journey of the Software Professional: The Sociology of Software Development                                                                                                                       |3.0  |\n",
      "|Just Bloomed                                                                                                                                                                                      |4.0  |\n",
      "|Just Bloomed                                                                                                                                                                                      |2.0  |\n",
      "|Kabuki Dreams (VOL. 2)                                                                                                                                                                            |5.0  |\n",
      "|Kabuki: Circle of Blood                                                                                                                                                                           |4.0  |\n",
      "|Kabuki: Metamorphosis                                                                                                                                                                             |5.0  |\n",
      "|Kama Sutra of Vatsayana                                                                                                                                                                           |5.0  |\n",
      "|Kathe Kollwitz                                                                                                                                                                                    |5.0  |\n",
      "|King of the Golden River                                                                                                                                                                          |3.0  |\n",
      "|Komarr (Miles Vorkosigan Adventures)                                                                                                                                                              |4.0  |\n",
      "|Kthe Kollwitz                                                                                                                                                                                     |5.0  |\n",
      "|Kushiel's Chosen (Kushiel's Legacy)                                                                                                                                                               |4.0  |\n",
      "|LETTER FORMS                                                                                                                                                                                      |4.0  |\n",
      "|LOOKING BACKWARD                                                                                                                                                                                  |4.0  |\n",
      "|La Cucina Di Lidia                                                                                                                                                                                |5.0  |\n",
      "|La Cucina Di Lidia: Recipes and Memories from Italy's Adriatic Coast                                                                                                                              |5.0  |\n",
      "|La Pacifica, Volume 3 Of 3 - Book Three, Sucker's End                                                                                                                                             |3.0  |\n",
      "|Legend of Mother Sarah: Tunnel Town                                                                                                                                                               |2.0  |\n",
      "|Letter Forms, Typographic and Scriptorial: Two Essays on Their Classification, History, and Bibliography                                                                                          |4.0  |\n",
      "|Life is tough and then you graduate: The second Piled Higher and Deeper Comic Strip Collection                                                                                                    |5.0  |\n",
      "|Life of an Amorous Man                                                                                                                                                                            |3.0  |\n",
      "|Lilith                                                                                                                                                                                            |5.0  |\n",
      "|Little wars: A game for boys from twelve years of age to one hundred and fifty and for that more intelligent sort of girl who likes boys' games and books                                         |4.0  |\n",
      "|Logic Machines & Diagrams                                                                                                                                                                         |4.0  |\n",
      "|Long Goodbye                                                                                                                                                                                      |5.0  |\n",
      "|Looking Backward                                                                                                                                                                                  |4.0  |\n",
      "|Looking Backward: 2000-1887 (Signet classics)                                                                                                                                                     |4.0  |\n",
      "|Lords and Ladies (Discworld Novels)                                                                                                                                                               |4.0  |\n",
      "|Lore Volume 1 (v. 1)                                                                                                                                                                              |4.0  |\n",
      "|Lysistrata                                                                                                                                                                                        |4.0  |\n",
      "|Marvel Age (Void Indigo, Vol. 1 No. 21)                                                                                                                                                           |3.0  |\n",
      "|Mastering MATLAB 6                                                                                                                                                                                |5.0  |\n",
      "|Matrices of Sign-Solvable Linear Systems (Cambridge Tracts in Mathematics)                                                                                                                        |3.0  |\n",
      "|Matrix Computations                                                                                                                                                                               |5.0  |\n",
      "|Messenger                                                                                                                                                                                         |4.0  |\n",
      "|Mind Wizards of Callisto                                                                                                                                                                          |4.0  |\n",
      "|Mirage                                                                                                                                                                                            |5.0  |\n",
      "|Mirror Mirror                                                                                                                                                                                     |2.0  |\n",
      "|Missing Data (Quantitative Applications in the Social Sciences)                                                                                                                                   |4.0  |\n",
      "|Modern Regression Methods (Wiley Series in Probability and Statistics)                                                                                                                            |5.0  |\n",
      "|Modesty Blaise: Top Traitor (Modesty Blaise (Graphic Novels))                                                                                                                                     |5.0  |\n",
      "|Mokume Gane                                                                                                                                                                                       |5.0  |\n",
      "|Mortal Engines (A Continuum book)                                                                                                                                                                 |4.0  |\n",
      "|Moving Pictures                                                                                                                                                                                   |4.0  |\n",
      "|Mucha: The Triumph of Art Nouveau                                                                                                                                                                 |4.0  |\n",
      "|Muddle Earth                                                                                                                                                                                      |2.0  |\n",
      "|Murder Mysteries                                                                                                                                                                                  |4.0  |\n",
      "|Naked Happy Girls: New York Undressed Sexy Private Home Innocent Natural Sunny Erotic Real & Playful                                                                                              |4.0  |\n",
      "|Natural Beauties                                                                                                                                                                                  |4.0  |\n",
      "|Nausicaa of the Valley of the Wind, Vol. 1                                                                                                                                                        |4.0  |\n",
      "|Networks on Chip                                                                                                                                                                                  |4.0  |\n",
      "|New Atlantis (Little blue book)                                                                                                                                                                   |4.0  |\n",
      "|News From Nowhere and Other Writings                                                                                                                                                              |4.0  |\n",
      "|Non Sequitur's Sunday Color Treasury (Non Sequitur Books)                                                                                                                                         |5.0  |\n",
      "|Norman Rockwell, illustrator                                                                                                                                                                      |4.0  |\n",
      "|Nuclear Magnetic Resonance (Oxford Chemistry Primers)                                                                                                                                             |5.0  |\n",
      "|OUT OF THE SILENT PLANET - The Perelandra Trilogy Book (1) One                                                                                                                                    |4.0  |\n",
      "|Object Design: Roles, Responsibilities, and Collaborations                                                                                                                                        |5.0  |\n",
      "|Object Oriented Reengineering Patterns (The Morgan Kaufmann Series in Software Engineering and Programming)                                                                                       |5.0  |\n",
      "|Ombria in Shadow                                                                                                                                                                                  |4.0  |\n",
      "|On Form                                                                                                                                                                                           |5.0  |\n",
      "|Optimizing Compilers for Modern Architectures: A Dependence-based Approach                                                                                                                        |5.0  |\n",
      "|Orbiter                                                                                                                                                                                           |4.0  |\n",
      "|Orlando (Biblioteca De Autor) (Spanish Edition)                                                                                                                                                   |4.0  |\n",
      "|Orlando (Shakespeare Head Press Edition of Virginia Woolf)                                                                                                                                        |4.0  |\n",
      "|Orlando (World's Classics)                                                                                                                                                                        |4.0  |\n",
      "|Ornela Vorpsi: Nothing Obvious                                                                                                                                                                    |1.0  |\n",
      "|Oryx and Crake                                                                                                                                                                                    |2.0  |\n",
      "|Out of the silent planet (Avon)                                                                                                                                                                   |4.0  |\n",
      "|Overtime                                                                                                                                                                                          |3.0  |\n",
      "|Oxford English Dictionary: Single User Version                                                                                                                                                    |5.0  |\n",
      "|Paolo Roversi: Nudi                                                                                                                                                                               |4.0  |\n",
      "|Parallax: The Race to Measure the Cosmos                                                                                                                                                          |5.0  |\n",
      "|Parallel Programming With MPI                                                                                                                                                                     |4.0  |\n",
      "|Parallel Programming in OpenMP                                                                                                                                                                    |4.0  |\n",
      "|Pattern-Oriented Software Architecture Volume 1: A System of Patterns                                                                                                                             |4.0  |\n",
      "|Pattern-Oriented Software Architecture Volume 2: Patterns for Concurrent and Networked Objects                                                                                                    |4.0  |\n",
      "|Patterns in Java: A Catalog of Reusable Design Patterns Illustrated with UML                                                                                                                      |3.0  |\n",
      "|Pearls are a Nuisance                                                                                                                                                                             |4.0  |\n",
      "|Penguin Island                                                                                                                                                                                    |5.0  |\n",
      "|Penguin Island (Modern Library)                                                                                                                                                                   |5.0  |\n",
      "|Penguin island,                                                                                                                                                                                   |5.0  |\n",
      "|Penguin island, (The Works of Anatole France in an English translation)                                                                                                                           |5.0  |\n",
      "|Perelandra, a novel                                                                                                                                                                               |5.0  |\n",
      "|Perelandra: A Novel                                                                                                                                                                               |5.0  |\n",
      "|Piled Higher and Deeper: A Graduate Student Comic Strip Collection                                                                                                                                |5.0  |\n",
      "|Pilgrim's Progress                                                                                                                                                                                |4.0  |\n",
      "|Pilgrim's Progress (Hodder Christian Audio)                                                                                                                                                       |4.0  |\n",
      "|Planecraft - Hand planing by Modern Methods                                                                                                                                                       |4.0  |\n",
      "|Pocket Sudoku Presented by Will Shortz, Volume 1: 150 Fast, Fun Puzzles (v. 1)                                                                                                                    |4.0  |\n",
      "|Popol Vuh: The Definitive Edition of The Mayan Book of The Dawn of Life and The Glories of Gods and Kings                                                                                         |4.0  |\n",
      "|Pose File 2: Theatrical & More (Pose File, Vol 2)                                                                                                                                                 |4.0  |\n",
      "|Potluck Pogo                                                                                                                                                                                      |5.0  |\n",
      "|Power of Impossible Thinking                                                                                                                                                                      |4.0  |\n",
      "|Practical FPGA Programming in C                                                                                                                                                                   |3.0  |\n",
      "|Practical bioinformatician, the                                                                                                                                                                   |3.0  |\n",
      "|Printing Types: An Introduction                                                                                                                                                                   |4.0  |\n",
      "|Printmaking: History and Process                                                                                                                                                                  |5.0  |\n",
      "|Program Development in Java: Abstraction, Specification, and Object-Oriented Design                                                                                                               |4.0  |\n",
      "|Programming in Ada 95 (2nd Edition) (International Computer Science Series)                                                                                                                       |3.0  |\n",
      "|Programming in Lua, Second Edition                                                                                                                                                                |4.0  |\n",
      "|Promethea (Book 1)                                                                                                                                                                                |4.0  |\n",
      "|Python Pocket Reference, 2nd Edition                                                                                                                                                              |4.0  |\n",
      "|Python in a Nutshell                                                                                                                                                                              |5.0  |\n",
      "|Random House Webster's Pocket Portuguese Dictionary (Best-Selling Random House Webster's Pocket Reference)                                                                                        |4.0  |\n",
      "|Raptors (v. 1)                                                                                                                                                                                    |4.0  |\n",
      "|Real-Time Design Patterns: Robust Scalable Architecture for Real-Time Systems                                                                                                                     |4.0  |\n",
      "|Reasoning about Uncertainty                                                                                                                                                                       |4.0  |\n",
      "|Rebels' Seed                                                                                                                                                                                      |4.0  |\n",
      "|Rembrandt's Whore: A Novel                                                                                                                                                                        |3.0  |\n",
      "|Repair: The Impulse to Restore in a Fragile World                                                                                                                                                 |2.0  |\n",
      "|Return From The Stars (Helen and Kurt Wolff Books)                                                                                                                                                |4.0  |\n",
      "|Revolt of the Angels                                                                                                                                                                              |4.0  |\n",
      "|Roverandom                                                                                                                                                                                        |4.0  |\n",
      "|Ruth Bernhard: The Eternal Body: A Collection of Fifty Nudes                                                                                                                                      |5.0  |\n",
      "|SENTIMENTAL AGENTS (Canopus in Argos--Archives)                                                                                                                                                   |4.0  |\n",
      "|Schaum's Outline of Operating Systems                                                                                                                                                             |4.0  |\n",
      "|Science and hypothesis                                                                                                                                                                            |5.0  |\n",
      "|Scientists Must Speak (Routledge Study Guides)                                                                                                                                                    |4.0  |\n",
      "|Scientists Must Write: A Guide to Better Writing for Scientists, Engineers and Students, Second edition (Routledge Study Guides)                                                                  |1.0  |\n",
      "|Second Moon (Keepers of the Maser)                                                                                                                                                                |4.0  |\n",
      "|Second Stage Lensman                                                                                                                                                                              |4.0  |\n",
      "|Second Stage Lensman (Lensman Saga)                                                                                                                                                               |4.0  |\n",
      "|Self-Images: 100 Women                                                                                                                                                                            |4.0  |\n",
      "|Sex and Drugs and Sausage Rolls                                                                                                                                                                   |4.0  |\n",
      "|Sex, Health, and Long Life: Manuals of Taoist Practice                                                                                                                                            |4.0  |\n",
      "|ShaderX2: Introductions and Tutorials with DirectX 9.0                                                                                                                                            |4.0  |\n",
      "|Shadow and Light, Volume 1                                                                                                                                                                        |4.0  |\n",
      "|Shadow and Light: Volume Two (Shadow & Light)                                                                                                                                                     |5.0  |\n",
      "|Shangri-La: The Return to the World of Lost Horizon                                                                                                                                               |2.0  |\n",
      "|Shikasta                                                                                                                                                                                          |3.0  |\n",
      "|Shikasta: Re, Colonised Planet 5 (Vintage International)                                                                                                                                          |3.0  |\n",
      "|Shunga, images of spring;: Essay on erotic elements in Japanese art                                                                                                                               |4.0  |\n",
      "|Sid Meier's Alpha Centauri: Power of the Mind Worms                                                                                                                                               |3.0  |\n",
      "|Silent Hill: Dying Inside                                                                                                                                                                         |4.0  |\n",
      "|Silversmithing (Jewelry Crafts)                                                                                                                                                                   |5.0  |\n",
      "|Simon & Schuster's Guide to Garden Flowers (Nature Guide Series)                                                                                                                                  |3.0  |\n",
      "|Simple Art of Murder                                                                                                                                                                              |4.0  |\n",
      "|Sir Lawrence Alma-Tadema                                                                                                                                                                          |5.0  |\n",
      "|Sirens                                                                                                                                                                                            |4.0  |\n",
      "|Skylark DuQuesne                                                                                                                                                                                  |4.0  |\n",
      "|Small Gods                                                                                                                                                                                        |5.0  |\n",
      "|Smalltalk Best Practice Patterns                                                                                                                                                                  |2.0  |\n",
      "|Software Design: From Programming to Architecture                                                                                                                                                 |4.0  |\n",
      "|Software Product-Line Engineering: A Family-Based Software Development Process                                                                                                                    |3.0  |\n",
      "|Some Women                                                                                                                                                                                        |4.0  |\n",
      "|Spacehounds of IPC                                                                                                                                                                                |4.0  |\n",
      "|Star Diaries                                                                                                                                                                                      |4.0  |\n",
      "|Star Raiders Graphic Novel #1                                                                                                                                                                     |3.0  |\n",
      "|Statistical Analysis of Gene Expression Microarray Data                                                                                                                                           |4.0  |\n",
      "|Stone Soup                                                                                                                                                                                        |5.0  |\n",
      "|Story of O                                                                                                                                                                                        |4.0  |\n",
      "|Structure and Interpretation of Computer Programs - 2nd Edition (MIT Electrical Engineering and Computer Science)                                                                                 |3.0  |\n",
      "|Study is Hard Work, Second Edition                                                                                                                                                                |5.0  |\n",
      "|Subspace Explorers                                                                                                                                                                                |4.0  |\n",
      "|Sundials: Their Theory and Construction (Anywhere But Naxos)                                                                                                                                      |5.0  |\n",
      "|Sweet Life 2: Erotic Fantasies for Couples                                                                                                                                                        |3.0  |\n",
      "|Sweet Life: Erotic Fantasies for Couples                                                                                                                                                          |4.0  |\n",
      "|THAIS                                                                                                                                                                                             |4.0  |\n",
      "|THE BOOK OF IMAGINARY BEINGS                                                                                                                                                                      |3.0  |\n",
      "|THE HOUSE ON THE BORDERLAND                                                                                                                                                                       |2.0  |\n",
      "|THE HUNTING OF THE SNARK                                                                                                                                                                          |5.0  |\n",
      "|THE LITTLE SISTER.                                                                                                                                                                                |4.0  |\n",
      "|THE MALTESE FALCON - A Sam Spade Mystery                                                                                                                                                          |5.0  |\n",
      "|THE MASK OF FU MANCHU                                                                                                                                                                             |4.0  |\n",
      "|THE POGO PEEK-A-BOOK.                                                                                                                                                                             |5.0  |\n",
      "|Tanar Of Pellucidar                                                                                                                                                                               |4.0  |\n",
      "|Tanar of Pellucidar                                                                                                                                                                               |4.0  |\n",
      "|Tcl/Tk Programmer's Reference                                                                                                                                                                     |4.0  |\n",
      "|That Hideous Strength                                                                                                                                                                             |5.0  |\n",
      "|That Hideous Strength (Space Trilogy)                                                                                                                                                             |5.0  |\n",
      "|That Hideous Strength: A Modern Fairy-Tale for Grown-ups                                                                                                                                          |5.0  |\n",
      "|That hideous strength,: A modern fairy-tale for grown-ups                                                                                                                                         |5.0  |\n",
      "|The Abolition of Man                                                                                                                                                                              |3.0  |\n",
      "|The Animal Court: A Political Fable from Old Japan                                                                                                                                                |4.0  |\n",
      "|The Art of Etching (The New Art Library)                                                                                                                                                          |4.0  |\n",
      "|The Art of Irvin Bomb                                                                                                                                                                             |4.0  |\n",
      "|The Art of Lovemaking                                                                                                                                                                             |4.0  |\n",
      "|The Art of Rowena                                                                                                                                                                                 |5.0  |\n",
      "|The Art of Software Architecture: Design Methods and Techniques (Wiley Application Development Series)                                                                                            |3.0  |\n",
      "|The Atrocity Archives (Laundry Files)                                                                                                                                                             |3.0  |\n",
      "|The Big Sleep                                                                                                                                                                                     |4.0  |\n",
      "|The Blackwinged Night: Creativity in Nature and Mind                                                                                                                                              |1.0  |\n",
      "|The Book of Numbers                                                                                                                                                                               |4.0  |\n",
      "|The Book of Tea                                                                                                                                                                                   |5.0  |\n",
      "|The Botany of Desire A Plant's-eye View of the World                                                                                                                                              |5.0  |\n",
      "|The Collected Drawings of Aubrey Beardsley                                                                                                                                                        |4.0  |\n",
      "|The Color of Magic                                                                                                                                                                                |5.0  |\n",
      "|The Compleat Traveller in Black (Collier Nucleus Science Fiction)                                                                                                                                 |5.0  |\n",
      "|The Complete Calvin and Hobbes                                                                                                                                                                    |5.0  |\n",
      "|The Complete Cartoons Of The New Yorker                                                                                                                                                           |5.0  |\n",
      "|The Complete Etchings of Rembrandt: Reproduced in Original Size (Dover Fine Art, History of Art)                                                                                                  |5.0  |\n",
      "|The Complete Guide to Prints and Printmaking: History, Materials and Techniques From Woodcut to Lithography                                                                                       |4.0  |\n",
      "|The Complete Manual of Wood Veneering                                                                                                                                                             |4.0  |\n",
      "|The Crime Of Sylvestre Bonnard                                                                                                                                                                    |3.0  |\n",
      "|The Crime of Sylvestre Bonnard                                                                                                                                                                    |3.0  |\n",
      "|The Crime of Sylvestre Bonnard, Illustrated                                                                                                                                                       |3.0  |\n",
      "|The Day the World Ended                                                                                                                                                                           |3.0  |\n",
      "|The Designer's Guide to VHDL (Systems on Silicon)                                                                                                                                                 |4.0  |\n",
      "|The Devil's Dictionary                                                                                                                                                                            |5.0  |\n",
      "|The Devil's Dictionary (Large Print)                                                                                                                                                              |5.0  |\n",
      "|The Early Netherlandish School (National Gallery London Publications)                                                                                                                             |5.0  |\n",
      "|The Education of a Typographer                                                                                                                                                                    |4.0  |\n",
      "|The Erotic Sentiment in the Paintings of China and Japan                                                                                                                                          |3.0  |\n",
      "|The Female Brain                                                                                                                                                                                  |5.0  |\n",
      "|The Gentle Art of Making Enemies                                                                                                                                                                  |4.0  |\n",
      "|The Giver                                                                                                                                                                                         |5.0  |\n",
      "|The Golden Ass                                                                                                                                                                                    |4.0  |\n",
      "|The Golden Ass (Oxford World's Classics)                                                                                                                                                          |4.0  |\n",
      "|The Gossamer Years: The Diary of a Noblewoman of Heian Japan (Tuttle Classics)                                                                                                                    |4.0  |\n",
      "|The Hammer of God                                                                                                                                                                                 |3.0  |\n",
      "|The Handmaid's Tale                                                                                                                                                                               |5.0  |\n",
      "|The Hound of the Baskervilles                                                                                                                                                                     |4.0  |\n",
      "|The Hound of the Baskervilles (Signet Classics)                                                                                                                                                   |4.0  |\n",
      "|The House on the Borderland                                                                                                                                                                       |2.0  |\n",
      "|The Human Factor: Designing Computer Systems for People                                                                                                                                           |3.0  |\n",
      "|The Human Figure: A Photographic Reference for Artists                                                                                                                                            |3.0  |\n",
      "|The Hunting of the Snark                                                                                                                                                                          |5.0  |\n",
      "|The Inheritors                                                                                                                                                                                    |4.0  |\n",
      "|The Invisibles Vol. 1: Say You Want a Revolution                                                                                                                                                  |3.0  |\n",
      "|The Island Of Dr.Moreau                                                                                                                                                                           |5.0  |\n",
      "|The Jade Emperor's Mind Seal Classic: The Taoist Guide to Health, Longevity, and Immortality                                                                                                      |2.0  |\n",
      "|The Kin of Ata are Waiting for You                                                                                                                                                                |4.0  |\n",
      "|The King of the Golden River                                                                                                                                                                      |3.0  |\n",
      "|The King of the Golden River, or, The Black Brothers                                                                                                                                              |3.0  |\n",
      "|The King of the World                                                                                                                                                                             |4.0  |\n",
      "|The Left Hand of Darkness                                                                                                                                                                         |4.0  |\n",
      "|The Legal Lampoon: A Biased, Unfair, and completely accurate law review from Non Sequitur                                                                                                         |5.0  |\n",
      "|The Light Fantastic (Discworld)                                                                                                                                                                   |5.0  |\n",
      "|The Little Sister                                                                                                                                                                                 |4.0  |\n",
      "|The Long Goodbye                                                                                                                                                                                  |5.0  |\n",
      "|The Long Goodbye (Bull's-eye)                                                                                                                                                                     |5.0  |\n",
      "|The Lorax (Turtleback School & Library Binding Edition)                                                                                                                                           |5.0  |\n",
      "|The Lost Art of War: Recently Discovered Companion to the Bestselling The Art of War, The                                                                                                         |4.0  |\n",
      "|The Lost Continent                                                                                                                                                                                |4.0  |\n",
      "|The Lost Painting: The Quest for a Caravaggio Masterpiece                                                                                                                                         |5.0  |\n",
      "|The Lurker At The Threshold                                                                                                                                                                       |4.0  |\n",
      "|The Lurker at the Threshold                                                                                                                                                                       |4.0  |\n",
      "|The Mabinogion                                                                                                                                                                                    |4.0  |\n",
      "|The Magic flute (Chrysalis)                                                                                                                                                                       |5.0  |\n",
      "|The Magic flute (Die Zauberflote): An opera in two acts (G. Schirmer's collection of opera librettos)                                                                                             |5.0  |\n",
      "|The Making of the Representative for Planet 8                                                                                                                                                     |5.0  |\n",
      "|The Maltese Falcon                                                                                                                                                                                |5.0  |\n",
      "|The Maltese falcon                                                                                                                                                                                |5.0  |\n",
      "|The Man Who Found Time: James Hutton and the Discovery of Earth's Antiquity                                                                                                                       |4.0  |\n",
      "|The Man Who Planted Trees: A Story Jean Giono                                                                                                                                                     |5.0  |\n",
      "|The Mercenary: Year 1000 : The End of the World                                                                                                                                                   |3.0  |\n",
      "|The Monster Men                                                                                                                                                                                   |4.0  |\n",
      "|The Nikopol Trilogy                                                                                                                                                                               |3.0  |\n",
      "|The Packaging Designer's Book of Patterns.                                                                                                                                                        |5.0  |\n",
      "|The Phantom Tollbooth (G.K. Hall large print for young readers)                                                                                                                                   |4.0  |\n",
      "|The Pilgrim's Progress                                                                                                                                                                            |4.0  |\n",
      "|The Pilgrim's Progress (Great Epics)                                                                                                                                                              |4.0  |\n",
      "|The Pilgrim's Progress; Cassette                                                                                                                                                                  |4.0  |\n",
      "|The Pilgrims Progress                                                                                                                                                                             |4.0  |\n",
      "|The Pilgrims progress                                                                                                                                                                             |4.0  |\n",
      "|The Poetic Memoirs of Lady Daibu                                                                                                                                                                  |4.0  |\n",
      "|The Polymer Clay Techniques Book                                                                                                                                                                  |5.0  |\n",
      "|The Portable Door                                                                                                                                                                                 |3.0  |\n",
      "|The Postman Always Rings Twice                                                                                                                                                                    |5.0  |\n",
      "|The Pragmatic Programmer: From Journeyman to Master                                                                                                                                               |4.0  |\n",
      "|The Purple Cloud                                                                                                                                                                                  |4.0  |\n",
      "|The Rabbi's Cat                                                                                                                                                                                   |4.0  |\n",
      "|The Reluctant Dragon                                                                                                                                                                              |5.0  |\n",
      "|The Republic (Non Fiction)                                                                                                                                                                        |4.0  |\n",
      "|The Republic of Plato                                                                                                                                                                             |4.0  |\n",
      "|The Republic of Plato (Ten cent pocket series)                                                                                                                                                    |4.0  |\n",
      "|The Return of Pogo                                                                                                                                                                                |4.0  |\n",
      "|The Revolt of the Angels                                                                                                                                                                          |4.0  |\n",
      "|The Riemann Hypothesis: the Greatest Unsolved Problem in Mathematics                                                                                                                              |4.0  |\n",
      "|The SNOBOL4 programming language                                                                                                                                                                  |5.0  |\n",
      "|The Sandman Library, Vol. 8: Worlds' End                                                                                                                                                          |4.0  |\n",
      "|The Satires (Oxford World's Classics)                                                                                                                                                             |4.0  |\n",
      "|The Satyricon (The 100 Greatest Books of All Time)                                                                                                                                                |4.0  |\n",
      "|The Screwtape letters                                                                                                                                                                             |5.0  |\n",
      "|The Screwtape letters,                                                                                                                                                                            |5.0  |\n",
      "|The Secret of the League                                                                                                                                                                          |5.0  |\n",
      "|The Sentimental Agents/#07504                                                                                                                                                                     |4.0  |\n",
      "|The Sex Chronicles: Shattering the Myth                                                                                                                                                           |5.0  |\n",
      "|The Skylark of Space                                                                                                                                                                              |4.0  |\n",
      "|The Stranger                                                                                                                                                                                      |4.0  |\n",
      "|The Technopriests: Book 1 : Techno Pre-School                                                                                                                                                     |4.0  |\n",
      "|The Time Machine : An Invention (Literary Texts Ser.)                                                                                                                                             |5.0  |\n",
      "|The Time Machine: An Invention                                                                                                                                                                    |5.0  |\n",
      "|The Traveller in Black                                                                                                                                                                            |5.0  |\n",
      "|The Truth: Discworld #25                                                                                                                                                                          |4.0  |\n",
      "|The Two Cultures: and A Second Look                                                                                                                                                               |5.0  |\n",
      "|The Yoni: Sacred Symbol of Female Creative Power                                                                                                                                                  |4.0  |\n",
      "|The abolition of man; or, Reflections on education with special reference to the teaching of English in the upper forms of schools, (University of Durham. Riddell memorial lectures)             |3.0  |\n",
      "|The art of Ken Kelly                                                                                                                                                                              |4.0  |\n",
      "|The best of Rube Goldberg                                                                                                                                                                         |4.0  |\n",
      "|The book of tea                                                                                                                                                                                   |5.0  |\n",
      "|The book of tea,                                                                                                                                                                                  |5.0  |\n",
      "|The crime of Sylvestre Bonnard                                                                                                                                                                    |3.0  |\n",
      "|The crime of Sylvestre Bonnard, (The works of Anatole France in an English translation)                                                                                                           |3.0  |\n",
      "|The devil's dictionary                                                                                                                                                                            |5.0  |\n",
      "|The devil's dictionary (Forum books)                                                                                                                                                              |5.0  |\n",
      "|The devil's dictionary (The 100 greatest masterpieces of American literature)                                                                                                                     |5.0  |\n",
      "|The devil's dictionary,                                                                                                                                                                           |5.0  |\n",
      "|The fairy caravan,                                                                                                                                                                                |4.0  |\n",
      "|The food of the gods and how it came to earth,                                                                                                                                                    |4.0  |\n",
      "|The golden scorpion,                                                                                                                                                                              |4.0  |\n",
      "|The human figure in motion                                                                                                                                                                        |4.0  |\n",
      "|The hunting of the snark: An agony in eight fits                                                                                                                                                  |5.0  |\n",
      "|The immortal of world's end                                                                                                                                                                       |2.0  |\n",
      "|The island of Dr. Moreau (Ballantine books)                                                                                                                                                       |5.0  |\n",
      "|The king of the Golden River,                                                                                                                                                                     |3.0  |\n",
      "|The king of the Golden River; or, The black brothers, a legend of Stiria,                                                                                                                         |3.0  |\n",
      "|The magic flute                                                                                                                                                                                   |5.0  |\n",
      "|The magic flute (G. Schirmer's collection of opera librettos)                                                                                                                                     |5.0  |\n",
      "|The magic flute,                                                                                                                                                                                  |5.0  |\n",
      "|The monster men                                                                                                                                                                                   |4.0  |\n",
      "|The moon maid: A tale of Barsoom                                                                                                                                                                  |4.0  |\n",
      "|The painted word                                                                                                                                                                                  |5.0  |\n",
      "|The postman always rings twice,                                                                                                                                                                   |5.0  |\n",
      "|The republic of Plato                                                                                                                                                                             |4.0  |\n",
      "|The revolt of the angels, (The works of Anatole France in English, ed. by the late Frederick Chapman, James Lewis May and Bernard Miall)                                                          |4.0  |\n",
      "|The root of his evil                                                                                                                                                                              |5.0  |\n",
      "|The story of O;: A novel                                                                                                                                                                          |4.0  |\n",
      "|The temple of Konarak: Erotic spirituality                                                                                                                                                        |4.0  |\n",
      "|The time machine,: An invention,                                                                                                                                                                  |5.0  |\n",
      "|The unspeakable confessions of Salvador Dali                                                                                                                                                      |4.0  |\n",
      "|Theory and Practice of Goldsmithing                                                                                                                                                               |4.0  |\n",
      "|Time-of-Flight Mass Spectrometry: Instrumentation and Applications in Biological Research (Acs Professional Reference Books)                                                                      |5.0  |\n",
      "|Tiny Giants                                                                                                                                                                                       |5.0  |\n",
      "|To Err Is Divine: A Novel                                                                                                                                                                         |4.0  |\n",
      "|To the Heart of the Storm (Will Eisner Library)                                                                                                                                                   |5.0  |\n",
      "|Transitions: The Art of Todd Lockwood                                                                                                                                                             |4.0  |\n",
      "|Transportation Buttons: Railroads (Transportation Uniform Buttons Ser.)                                                                                                                           |5.0  |\n",
      "|Transportation Uniform Buttons, Vol. 3: Maritime and Aviation                                                                                                                                     |5.0  |\n",
      "|Transportation buttons                                                                                                                                                                            |5.0  |\n",
      "|Triplanetary                                                                                                                                                                                      |4.0  |\n",
      "|Triplanetary (Lensman Saga)                                                                                                                                                                       |4.0  |\n",
      "|Twentieth-Century Artists on Art                                                                                                                                                                  |3.0  |\n",
      "|Type Now: A Manifesto                                                                                                                                                                             |3.0  |\n",
      "|USB Complete: Everything You Need to Develop Custom USB Peripherals                                                                                                                               |4.0  |\n",
      "|Uml in a Nutshell: A Desktop Quick Reference (Nutshell Handbook)                                                                                                                                  |1.0  |\n",
      "|Underground City: Or, The Child of the Cavern                                                                                                                                                     |4.0  |\n",
      "|Utopia (Hackett Publishing Co.)                                                                                                                                                                   |5.0  |\n",
      "|V for vendetta                                                                                                                                                                                    |5.0  |\n",
      "|VHDL FOR DESIGNERS                                                                                                                                                                                |3.0  |\n",
      "|WAR WITH THE NEWTS                                                                                                                                                                                |4.0  |\n",
      "|War With the Newts                                                                                                                                                                                |4.0  |\n",
      "|War with the newts                                                                                                                                                                                |4.0  |\n",
      "|Watchmen                                                                                                                                                                                          |3.0  |\n",
      "|We                                                                                                                                                                                                |5.0  |\n",
      "|Why Mrs Blake Cried: William Blake and the Sexual Basis of Spiritual Vision                                                                                                                       |3.0  |\n",
      "|World Woods in Color                                                                                                                                                                              |4.0  |\n",
      "|Ye Gods!                                                                                                                                                                                          |4.0  |\n",
      "|Young Rissa (Rissa Kerguelen Saga Bk 1)                                                                                                                                                           |4.0  |\n",
      "|Zane's Gettin' Buck Wild: Sex Chronicles II                                                                                                                                                       |4.0  |\n",
      "|the Inheritors                                                                                                                                                                                    |4.0  |\n",
      "+--------------------------------------------------------------------------------------------------------------------------------------------------------------------------------------------------+-----+\n",
      "\n"
     ]
    }
   ],
   "source": [
    "#user_info.sort(\"Title\").show(user_info.count(),truncate=False)"
   ]
  },
  {
   "cell_type": "code",
   "execution_count": 230,
   "metadata": {},
   "outputs": [
    {
     "name": "stdout",
     "output_type": "stream",
     "text": [
      "+----------------------------------------------------------------------------+\n",
      "|Title                                                                       |\n",
      "+----------------------------------------------------------------------------+\n",
      "|Penny Plain [Hardcover] by O. Douglas                                       |\n",
      "|The Diary of Anne Frank.                                                    |\n",
      "|Messages from Water, Vol. 1                                                 |\n",
      "|Transmetropolitan Vol. 5: Lonely City                                       |\n",
      "|Vagueness: A Reader (Bradford Books)                                        |\n",
      "|The Cake Bible                                                              |\n",
      "|Betsy and the Great World (Betsy-Tacy Ser.)                                 |\n",
      "|Pajama Time!                                                                |\n",
      "|The Rough Guide to Russian Dictionary Phrasebook 2 (Rough Guide Phrasebooks)|\n",
      "|Jocks: True Stories of America's Gay Male Athletes                          |\n",
      "+----------------------------------------------------------------------------+\n",
      "\n"
     ]
    }
   ],
   "source": [
    "#change userId to any userId you want in the validation data\n",
    "#and you can see the result of 10 books recommended to the specific userId\n",
    "\n",
    "userId = \"A14OJS0VWMOSWO\"\n",
    "# or you can randomly select one User_id from the dataframe\n",
    "random_user = indexeded_explodedRecs.select(col(\"User_id\")).sample(False, 0.1).limit(1).first()[\"User_id\"]\n",
    "\n",
    "rec = indexeded_explodedRecs.filter(col(\"User_id\") == random_user).select(\"Title\")\n",
    "rec.show(truncate=False)"
   ]
  },
  {
   "cell_type": "code",
   "execution_count": 280,
   "metadata": {},
   "outputs": [],
   "source": [
    "rec_split = userRecs.withColumn(\"rec\", explode(\"recommendations\"))\n",
    "rec_split=rec_split.select(\"uid\", \"rec.bid\", \"rec.rating\")"
   ]
  },
  {
   "cell_type": "code",
   "execution_count": 281,
   "metadata": {},
   "outputs": [
    {
     "name": "stdout",
     "output_type": "stream",
     "text": [
      "+---+------+---------+\n",
      "|uid|   bid|   rating|\n",
      "+---+------+---------+\n",
      "| 12|139391|6.5770655|\n",
      "| 12| 38611| 6.145306|\n",
      "| 12|126020|6.1290016|\n",
      "| 12| 19582| 5.922312|\n",
      "| 12|202935|5.5806875|\n",
      "+---+------+---------+\n",
      "only showing top 5 rows\n",
      "\n"
     ]
    }
   ],
   "source": [
    "#rec_split.show(5)"
   ]
  },
  {
   "cell_type": "code",
   "execution_count": 283,
   "metadata": {},
   "outputs": [],
   "source": [
    "rec_split = rec_split.alias(\"rec_split\")"
   ]
  },
  {
   "cell_type": "code",
   "execution_count": 285,
   "metadata": {},
   "outputs": [],
   "source": [
    "rec_map_user = rec_split.join(userMapping, col(\"rec_split.uid\") == col(\"mapping.uid\"), \"left_outer\")\n",
    "rec_map_user = rec_map_user.select(col(\"mapping.User_id\"), col(\"rec_split.bid\"),col(\"rec_split.rating\"))"
   ]
  },
  {
   "cell_type": "code",
   "execution_count": 286,
   "metadata": {},
   "outputs": [
    {
     "name": "stdout",
     "output_type": "stream",
     "text": [
      "+--------------+------+---------+\n",
      "|       User_id|   bid|   rating|\n",
      "+--------------+------+---------+\n",
      "|A2NJO6YE954DBH|139391|6.5770655|\n",
      "|A2NJO6YE954DBH| 38611| 6.145306|\n",
      "|A2NJO6YE954DBH|126020|6.1290016|\n",
      "|A2NJO6YE954DBH| 19582| 5.922312|\n",
      "|A2NJO6YE954DBH|202935|5.5806875|\n",
      "+--------------+------+---------+\n",
      "only showing top 5 rows\n",
      "\n"
     ]
    }
   ],
   "source": [
    "#rec_map_user.show(5)"
   ]
  },
  {
   "cell_type": "code",
   "execution_count": 293,
   "metadata": {},
   "outputs": [],
   "source": [
    "rec_map_book = rec_map_user.join(bookMapping, col(\"rec_split.bid\") == col(\"book.bid\"), \"left_outer\")\n",
    "rec_map_book = rec_map_book.select(col(\"mapping.User_id\"),col(\"book.Title\") ,col(\"rec_split.rating\"))"
   ]
  },
  {
   "cell_type": "code",
   "execution_count": 294,
   "metadata": {},
   "outputs": [
    {
     "name": "stdout",
     "output_type": "stream",
     "text": [
      "+--------------+--------------------+---------+\n",
      "|       User_id|               Title|   rating|\n",
      "+--------------+--------------------+---------+\n",
      "|A2NJO6YE954DBH|Penny Plain [Hard...|6.5770655|\n",
      "|A2NJO6YE954DBH|The Diary of Anne...| 6.145306|\n",
      "|A2NJO6YE954DBH|Messages from Wat...|6.1290016|\n",
      "|A2NJO6YE954DBH|Transmetropolitan...| 5.922312|\n",
      "|A2NJO6YE954DBH|Vagueness: A Read...|5.5806875|\n",
      "+--------------+--------------------+---------+\n",
      "only showing top 5 rows\n",
      "\n"
     ]
    }
   ],
   "source": [
    "#rec_map_book.show(5)"
   ]
  },
  {
   "cell_type": "code",
   "execution_count": 295,
   "metadata": {},
   "outputs": [
    {
     "name": "stdout",
     "output_type": "stream",
     "text": [
      "root\n",
      " |-- User_id: string (nullable = true)\n",
      " |-- Title: string (nullable = true)\n",
      " |-- rating: float (nullable = true)\n",
      "\n"
     ]
    }
   ],
   "source": [
    "#rec_map_book.printSchema()"
   ]
  },
  {
   "cell_type": "code",
   "execution_count": 296,
   "metadata": {},
   "outputs": [],
   "source": [
    "# Define the minimum and maximum values for the rating range\n",
    "min_rating = rec_map_book.selectExpr(\"MIN(rating)\").collect()[0][0]\n",
    "max_rating = rec_map_book.selectExpr(\"MAX(rating)\").collect()[0][0]"
   ]
  },
  {
   "cell_type": "code",
   "execution_count": 307,
   "metadata": {},
   "outputs": [
    {
     "name": "stdout",
     "output_type": "stream",
     "text": [
      "min_rating =  1.0409730672836304\n",
      "max_rating =  7.3838210105896\n"
     ]
    }
   ],
   "source": [
    "print(\"min_rating = \",min_rating)\n",
    "print(\"max_rating = \",max_rating)"
   ]
  },
  {
   "cell_type": "code",
   "execution_count": 299,
   "metadata": {},
   "outputs": [],
   "source": [
    "# Linearly transform the rating column to the range 1-5\n",
    "linear_ranged_rec = rec_map_book.withColumn(\"transformed_rating\", \n",
    "                    1 + (5 - 1) * ((col(\"rating\") - min_rating) / (max_rating - min_rating)))"
   ]
  },
  {
   "cell_type": "code",
   "execution_count": 300,
   "metadata": {},
   "outputs": [
    {
     "name": "stdout",
     "output_type": "stream",
     "text": [
      "+--------------+--------------------+---------+------------------+\n",
      "|       User_id|               Title|   rating|transformed_rating|\n",
      "+--------------+--------------------+---------+------------------+\n",
      "|A2NJO6YE954DBH|Penny Plain [Hard...|6.5770655| 4.491234505404437|\n",
      "|A2NJO6YE954DBH|The Diary of Anne...| 6.145306| 4.218953434622625|\n",
      "|A2NJO6YE954DBH|Messages from Wat...|6.1290016| 4.208671307038188|\n",
      "|A2NJO6YE954DBH|Transmetropolitan...| 5.922312| 4.078326177252845|\n",
      "|A2NJO6YE954DBH|Vagueness: A Read...|5.5806875| 3.862887142294254|\n",
      "+--------------+--------------------+---------+------------------+\n",
      "only showing top 5 rows\n",
      "\n"
     ]
    }
   ],
   "source": [
    "#linear_ranged_rec.show(5)"
   ]
  },
  {
   "cell_type": "code",
   "execution_count": 303,
   "metadata": {},
   "outputs": [
    {
     "name": "stdout",
     "output_type": "stream",
     "text": [
      "+----------------------------------------------------------------------------+------------------+\n",
      "|Title                                                                       |predicted_rating  |\n",
      "+----------------------------------------------------------------------------+------------------+\n",
      "|Penny Plain [Hardcover] by O. Douglas                                       |4.23090238972148  |\n",
      "|The Diary of Anne Frank.                                                    |4.032834987214718 |\n",
      "|Messages from Water, Vol. 1                                                 |4.0238636482168495|\n",
      "|Transmetropolitan Vol. 5: Lonely City                                       |3.8759736778526177|\n",
      "|Vagueness: A Reader (Bradford Books)                                        |3.666720217848312 |\n",
      "|The Cake Bible                                                              |3.6033128121671942|\n",
      "|Betsy and the Great World (Betsy-Tacy Ser.)                                 |3.536531456511012 |\n",
      "|Pajama Time!                                                                |3.479901420218309 |\n",
      "|The Rough Guide to Russian Dictionary Phrasebook 2 (Rough Guide Phrasebooks)|3.4759013950339672|\n",
      "|Jocks: True Stories of America's Gay Male Athletes                          |3.4714602304010147|\n",
      "+----------------------------------------------------------------------------+------------------+\n",
      "\n"
     ]
    }
   ],
   "source": [
    "result = linear_ranged_rec.filter(col(\"User_id\") == random_user)\\\n",
    "                       .select(\"Title\",col(\"transformed_rating\").alias(\"predicted_rating\"))\n",
    "result.show(truncate=False)"
   ]
  },
  {
   "cell_type": "code",
   "execution_count": 350,
   "metadata": {},
   "outputs": [],
   "source": [
    "total_rate = result.select(round(sum(\"predicted_rating\"),3)).collect()[0][0]"
   ]
  },
  {
   "cell_type": "code",
   "execution_count": 351,
   "metadata": {},
   "outputs": [
    {
     "data": {
      "text/plain": [
       "37.397"
      ]
     },
     "execution_count": 351,
     "metadata": {},
     "output_type": "execute_result"
    }
   ],
   "source": [
    "#total_rate"
   ]
  },
  {
   "cell_type": "code",
   "execution_count": 343,
   "metadata": {},
   "outputs": [],
   "source": [
    "from pyspark.sql.functions import round\n",
    "rounded_acc = result.select(round(sum(\"predicted_rating\")/50*100, 3)).collect()[0][0]\n"
   ]
  },
  {
   "cell_type": "code",
   "execution_count": 344,
   "metadata": {},
   "outputs": [
    {
     "data": {
      "text/plain": [
       "74.795"
      ]
     },
     "execution_count": 344,
     "metadata": {},
     "output_type": "execute_result"
    }
   ],
   "source": [
    "#rounded_acc"
   ]
  },
  {
   "cell_type": "code",
   "execution_count": 352,
   "metadata": {},
   "outputs": [
    {
     "name": "stdout",
     "output_type": "stream",
     "text": [
      "The prediction gets 37.397 stars out of 50 stars.\n",
      "Predicted Accuracy = 74.795%\n"
     ]
    }
   ],
   "source": [
    "print(f\"The prediction gets {total_rate} stars out of 50 stars.\")\n",
    "print(f\"Predicted Accuracy = {rounded_acc}%\")"
   ]
  }
 ],
 "metadata": {
  "kernelspec": {
   "display_name": "Python 3",
   "language": "python",
   "name": "python3"
  },
  "language_info": {
   "codemirror_mode": {
    "name": "ipython",
    "version": 3
   },
   "file_extension": ".py",
   "mimetype": "text/x-python",
   "name": "python",
   "nbconvert_exporter": "python",
   "pygments_lexer": "ipython3",
   "version": "3.10.0"
  },
  "orig_nbformat": 4
 },
 "nbformat": 4,
 "nbformat_minor": 2
}
